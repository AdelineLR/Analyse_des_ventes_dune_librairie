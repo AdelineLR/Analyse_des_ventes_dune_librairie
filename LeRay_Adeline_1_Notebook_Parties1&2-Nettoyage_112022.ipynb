{
 "cells": [
  {
   "cell_type": "markdown",
   "id": "a3cc2c8a",
   "metadata": {},
   "source": [
    "# Projet P6 - Analysez les ventes d'une librairie avec R ou Python\n",
    "\n",
    "*OPENCLASSROOMS - Parcours Data Analyst V2 - Adeline Le Ray - Novembre 2022*\n",
    "<hr>"
   ]
  },
  {
   "attachments": {
    "logo_lapage.jpg": {
     "image/jpeg": "[encoded data removed]"
    }
   },
   "cell_type": "markdown",
   "id": "31f89680",
   "metadata": {},
   "source": [
    "![logo_lapage.jpg](attachment:logo_lapage.jpg)"
   ]
  },
  {
   "cell_type": "markdown",
   "id": "3d0d4d13",
   "metadata": {},
   "source": [
    "## <font color='blue'>Sommaire</font>\n",
    "**[Présentation du projet](#Presentation_projet)**\n",
    "* [1. Rappel du contexte](#0_1)\n",
    "* [2. Données sources](#0_2)\n",
    "* [3. Objectifs de la mission](#0_3)\n",
    "* [4. Analyses à réaliser](#0_4)\n",
    "* [5. Démarche](#0_5)\n",
    "\n",
    "**[Partie 1 - Importation et Inspection des fichiers de données](#partie1)**\n",
    "* [1. Importation des librairies](#1_1)\n",
    "* [2. Importation et inspection des fichiers de données](#1_2)\n",
    "    \n",
    "**[Partie 2 - Nettoyage des données](#partie2)**\n",
    "* [1. Types de variables](#2_1)\n",
    "* [2. Valeurs manquantes](#2_2)\n",
    "* [3. Doublons](#2_3)\n",
    "* [4. Valeurs aberrantes](#2_4)\n",
    "    "
   ]
  },
  {
   "cell_type": "markdown",
   "id": "80e7dda6",
   "metadata": {},
   "source": [
    "## <font color='blue'>Présentation du projet<a class=\"anchor\" id=\"Presentation_projet\"></a></font>\n",
    "\n",
    "### 1. Rappel du contexte<a class=\"anchor\" id=\"0_1\"></a>\n",
    "\n",
    "Lapage était originellement une librairie physique avec plusieurs points de vente. Mais devant le succès de certains de ses produits et l’engouement de ses clients, elle a décidé depuis 2 ans d’ouvrir un site de vente en ligne. Vous intervenez car l’entreprise souhaite faire le point après deux ans d’exercice, et pouvoir analyser ses points forts, ses points faibles, les comportements clients, etc.\n",
    "\n",
    "Mon rôle : consultante Data Analyst chez Lapage, directement rattachée au service Marketing.\n",
    "\n",
    "\n",
    "### 2. Données sources<a class=\"anchor\" id=\"0_2\"></a>\n",
    "Les fichiers source utilisés sont les suivants:\n",
    "- 'customers.csv'\n",
    "- 'products.csv'\n",
    "- 'transactions.csv'\n",
    "\n",
    "\n",
    "### 3. Objectifs de la mission<a class=\"anchor\" id=\"0_3\"></a>\n",
    "\n",
    "Faire le point sur les 2 ans de ventes en ligne pour décider de la marche à suivre, par exemple décider si nous devons créer certaines offres, adapter certains prix, etc.\n",
    "\n",
    "1. Une analyse des différents indicateurs de vente\n",
    "    - Chiffre d'affaires\n",
    "        - Différents indicateurs et graphiques autour du chiffre d'affaires\n",
    "        - Evolution dans le temps du chiffre d'affaires et mettre en place une décomposition en moyenne mobile pour évaluer la tendance globale\n",
    "    - Ventes\n",
    "        - Tops et flops des références \n",
    "        - Répartition par catégorie\n",
    "    - Profils clients\n",
    "        - Informations sur les profils de nos clients\n",
    "        - Répartition du chiffre d'affaires entre les profils clients, via par exemple une courbe de Lorenz.\n",
    "2. Une analyse plus ciblée sur les clients pour comprendre le comportement de nos clients en ligne, pour pouvoir ensuite comparer avec la connaissance acquise via nos librairies physiques. \n",
    "    - Lien entre le genre d’un client et les catégories des livres achetés\n",
    "    - Lien entre l’âge des clients et le montant total des achats, la fréquence d’achat, la taille du panier moyen et les catégories des livres achetés.\n",
    "\n",
    "    \n",
    "### 5. Démarche<a class=\"anchor\" id=\"0_5\"></a> \n",
    "La démarche utilisée pour réaliser le projet se découpe en 3 parties :\n",
    "\n",
    "1. Importation et inspection des fichiers de données\n",
    "2. Nettoyage des données\n",
    "3. Analyse des données\n",
    "\n",
    "Les différentes parties sont détaillées ci-dessous.\n",
    "\n",
    "*Nota : df = data frame dans le notebook*"
   ]
  },
  {
   "cell_type": "markdown",
   "id": "ee0ad0e3",
   "metadata": {},
   "source": [
    "## <font color='blue'>Partie 1 - Importation et inspection des fichiers de données<a class=\"anchor\" id=\"partie1\"></a></font>"
   ]
  },
  {
   "cell_type": "markdown",
   "id": "60fd2945",
   "metadata": {},
   "source": [
    "### 1. Importation des librairies"
   ]
  },
  {
   "cell_type": "code",
   "execution_count": 1,
   "id": "cb26713c",
   "metadata": {},
   "outputs": [],
   "source": [
    "# Importation des librairies pandas, numpy, pyplot de matplotlib, seaborn, plotly, datetime\n",
    "import pandas as pd\n",
    "import numpy as np\n",
    "import matplotlib\n",
    "import matplotlib.pyplot as plt\n",
    "import seaborn as sns\n",
    "import datetime as dt"
   ]
  },
  {
   "cell_type": "markdown",
   "id": "6458888d",
   "metadata": {},
   "source": [
    "### 2. Importation et inspection des fichiers de données<a class=\"anchor\" id=\"1_2\"></a>\n",
    "\n",
    "La démarche de l'inspection des fichiers de données est la suivante :\n",
    "* Importation\n",
    "* Aperçu du data frame\n",
    "* Dimension du data frame"
   ]
  },
  {
   "cell_type": "markdown",
   "id": "c2cc93a0",
   "metadata": {},
   "source": [
    "#### a. Fichier 'Customers'<a class=\"anchor\" id=\"1_2_1\"></a>"
   ]
  },
  {
   "cell_type": "code",
   "execution_count": 2,
   "id": "f8690147",
   "metadata": {},
   "outputs": [
    {
     "data": {
      "text/html": [
       "<div>\n",
       "<style scoped>\n",
       "    .dataframe tbody tr th:only-of-type {\n",
       "        vertical-align: middle;\n",
       "    }\n",
       "\n",
       "    .dataframe tbody tr th {\n",
       "        vertical-align: top;\n",
       "    }\n",
       "\n",
       "    .dataframe thead th {\n",
       "        text-align: right;\n",
       "    }\n",
       "</style>\n",
       "<table border=\"1\" class=\"dataframe\">\n",
       "  <thead>\n",
       "    <tr style=\"text-align: right;\">\n",
       "      <th></th>\n",
       "      <th>client_id</th>\n",
       "      <th>sex</th>\n",
       "      <th>birth</th>\n",
       "    </tr>\n",
       "  </thead>\n",
       "  <tbody>\n",
       "    <tr>\n",
       "      <th>0</th>\n",
       "      <td>c_4410</td>\n",
       "      <td>f</td>\n",
       "      <td>1967</td>\n",
       "    </tr>\n",
       "    <tr>\n",
       "      <th>1</th>\n",
       "      <td>c_7839</td>\n",
       "      <td>f</td>\n",
       "      <td>1975</td>\n",
       "    </tr>\n",
       "    <tr>\n",
       "      <th>2</th>\n",
       "      <td>c_1699</td>\n",
       "      <td>f</td>\n",
       "      <td>1984</td>\n",
       "    </tr>\n",
       "    <tr>\n",
       "      <th>3</th>\n",
       "      <td>c_5961</td>\n",
       "      <td>f</td>\n",
       "      <td>1962</td>\n",
       "    </tr>\n",
       "    <tr>\n",
       "      <th>4</th>\n",
       "      <td>c_5320</td>\n",
       "      <td>m</td>\n",
       "      <td>1943</td>\n",
       "    </tr>\n",
       "  </tbody>\n",
       "</table>\n",
       "</div>"
      ],
      "text/plain": [
       "  client_id sex  birth\n",
       "0    c_4410   f   1967\n",
       "1    c_7839   f   1975\n",
       "2    c_1699   f   1984\n",
       "3    c_5961   f   1962\n",
       "4    c_5320   m   1943"
      ]
     },
     "execution_count": 2,
     "metadata": {},
     "output_type": "execute_result"
    }
   ],
   "source": [
    "# Importation et aperçu du data frame\n",
    "df_customers=pd.read_csv('customers.csv')\n",
    "df_customers.head()"
   ]
  },
  {
   "cell_type": "code",
   "execution_count": 3,
   "id": "ff71ad11",
   "metadata": {},
   "outputs": [
    {
     "data": {
      "text/plain": [
       "(8623, 3)"
      ]
     },
     "execution_count": 3,
     "metadata": {},
     "output_type": "execute_result"
    }
   ],
   "source": [
    "# Dimensions du data frame\n",
    "df_customers.shape"
   ]
  },
  {
   "cell_type": "markdown",
   "id": "40fd2292",
   "metadata": {},
   "source": [
    "Le data frame **'customers'** comprends 3 colonnes :\n",
    "- **client_id** : identifiant client\n",
    "- **sex** : genre du client\n",
    "- **birth** : année de naissance du client"
   ]
  },
  {
   "cell_type": "markdown",
   "id": "982f4858",
   "metadata": {},
   "source": [
    "#### b. Fichier 'Products'<a class=\"anchor\" id=\"1_2_2\"></a>"
   ]
  },
  {
   "cell_type": "code",
   "execution_count": 4,
   "id": "da91f2e6",
   "metadata": {},
   "outputs": [
    {
     "data": {
      "text/html": [
       "<div>\n",
       "<style scoped>\n",
       "    .dataframe tbody tr th:only-of-type {\n",
       "        vertical-align: middle;\n",
       "    }\n",
       "\n",
       "    .dataframe tbody tr th {\n",
       "        vertical-align: top;\n",
       "    }\n",
       "\n",
       "    .dataframe thead th {\n",
       "        text-align: right;\n",
       "    }\n",
       "</style>\n",
       "<table border=\"1\" class=\"dataframe\">\n",
       "  <thead>\n",
       "    <tr style=\"text-align: right;\">\n",
       "      <th></th>\n",
       "      <th>id_prod</th>\n",
       "      <th>price</th>\n",
       "      <th>categ</th>\n",
       "    </tr>\n",
       "  </thead>\n",
       "  <tbody>\n",
       "    <tr>\n",
       "      <th>0</th>\n",
       "      <td>0_1421</td>\n",
       "      <td>19.99</td>\n",
       "      <td>0</td>\n",
       "    </tr>\n",
       "    <tr>\n",
       "      <th>1</th>\n",
       "      <td>0_1368</td>\n",
       "      <td>5.13</td>\n",
       "      <td>0</td>\n",
       "    </tr>\n",
       "    <tr>\n",
       "      <th>2</th>\n",
       "      <td>0_731</td>\n",
       "      <td>17.99</td>\n",
       "      <td>0</td>\n",
       "    </tr>\n",
       "    <tr>\n",
       "      <th>3</th>\n",
       "      <td>1_587</td>\n",
       "      <td>4.99</td>\n",
       "      <td>1</td>\n",
       "    </tr>\n",
       "    <tr>\n",
       "      <th>4</th>\n",
       "      <td>0_1507</td>\n",
       "      <td>3.99</td>\n",
       "      <td>0</td>\n",
       "    </tr>\n",
       "  </tbody>\n",
       "</table>\n",
       "</div>"
      ],
      "text/plain": [
       "  id_prod  price  categ\n",
       "0  0_1421  19.99      0\n",
       "1  0_1368   5.13      0\n",
       "2   0_731  17.99      0\n",
       "3   1_587   4.99      1\n",
       "4  0_1507   3.99      0"
      ]
     },
     "execution_count": 4,
     "metadata": {},
     "output_type": "execute_result"
    }
   ],
   "source": [
    "# Importation et aperçu du data frame\n",
    "df_products=pd.read_csv('products.csv')\n",
    "df_products.head()"
   ]
  },
  {
   "cell_type": "code",
   "execution_count": 5,
   "id": "7aaa20ad",
   "metadata": {},
   "outputs": [
    {
     "data": {
      "text/plain": [
       "(3287, 3)"
      ]
     },
     "execution_count": 5,
     "metadata": {},
     "output_type": "execute_result"
    }
   ],
   "source": [
    "# Dimensions du data frame\n",
    "df_products.shape"
   ]
  },
  {
   "cell_type": "markdown",
   "id": "9963607a",
   "metadata": {},
   "source": [
    "Le data frame **'products'** comprends 3 colonnes :\n",
    "- **id_prod** : référence du livre\n",
    "- **price** : prix unitaire\n",
    "- **categ** : catégorie du livre"
   ]
  },
  {
   "cell_type": "markdown",
   "id": "07029c97",
   "metadata": {},
   "source": [
    "#### c. Fichier 'Transactions'<a class=\"anchor\" id=\"1_2_3\"></a>"
   ]
  },
  {
   "cell_type": "code",
   "execution_count": 6,
   "id": "0293c810",
   "metadata": {},
   "outputs": [
    {
     "data": {
      "text/html": [
       "<div>\n",
       "<style scoped>\n",
       "    .dataframe tbody tr th:only-of-type {\n",
       "        vertical-align: middle;\n",
       "    }\n",
       "\n",
       "    .dataframe tbody tr th {\n",
       "        vertical-align: top;\n",
       "    }\n",
       "\n",
       "    .dataframe thead th {\n",
       "        text-align: right;\n",
       "    }\n",
       "</style>\n",
       "<table border=\"1\" class=\"dataframe\">\n",
       "  <thead>\n",
       "    <tr style=\"text-align: right;\">\n",
       "      <th></th>\n",
       "      <th>id_prod</th>\n",
       "      <th>date</th>\n",
       "      <th>session_id</th>\n",
       "      <th>client_id</th>\n",
       "    </tr>\n",
       "  </thead>\n",
       "  <tbody>\n",
       "    <tr>\n",
       "      <th>0</th>\n",
       "      <td>0_1518</td>\n",
       "      <td>2022-05-20 13:21:29.043970</td>\n",
       "      <td>s_211425</td>\n",
       "      <td>c_103</td>\n",
       "    </tr>\n",
       "    <tr>\n",
       "      <th>1</th>\n",
       "      <td>1_251</td>\n",
       "      <td>2022-02-02 07:55:19.149409</td>\n",
       "      <td>s_158752</td>\n",
       "      <td>c_8534</td>\n",
       "    </tr>\n",
       "    <tr>\n",
       "      <th>2</th>\n",
       "      <td>0_1277</td>\n",
       "      <td>2022-06-18 15:44:33.155329</td>\n",
       "      <td>s_225667</td>\n",
       "      <td>c_6714</td>\n",
       "    </tr>\n",
       "    <tr>\n",
       "      <th>3</th>\n",
       "      <td>2_209</td>\n",
       "      <td>2021-06-24 04:19:29.835891</td>\n",
       "      <td>s_52962</td>\n",
       "      <td>c_6941</td>\n",
       "    </tr>\n",
       "    <tr>\n",
       "      <th>4</th>\n",
       "      <td>0_1509</td>\n",
       "      <td>2023-01-11 08:22:08.194479</td>\n",
       "      <td>s_325227</td>\n",
       "      <td>c_4232</td>\n",
       "    </tr>\n",
       "  </tbody>\n",
       "</table>\n",
       "</div>"
      ],
      "text/plain": [
       "  id_prod                        date session_id client_id\n",
       "0  0_1518  2022-05-20 13:21:29.043970   s_211425     c_103\n",
       "1   1_251  2022-02-02 07:55:19.149409   s_158752    c_8534\n",
       "2  0_1277  2022-06-18 15:44:33.155329   s_225667    c_6714\n",
       "3   2_209  2021-06-24 04:19:29.835891    s_52962    c_6941\n",
       "4  0_1509  2023-01-11 08:22:08.194479   s_325227    c_4232"
      ]
     },
     "execution_count": 6,
     "metadata": {},
     "output_type": "execute_result"
    }
   ],
   "source": [
    "df_transactions=pd.read_csv('transactions.csv')\n",
    "df_transactions.head()"
   ]
  },
  {
   "cell_type": "code",
   "execution_count": 7,
   "id": "3c6dbe87",
   "metadata": {},
   "outputs": [
    {
     "data": {
      "text/plain": [
       "(679532, 4)"
      ]
     },
     "execution_count": 7,
     "metadata": {},
     "output_type": "execute_result"
    }
   ],
   "source": [
    "df_transactions.shape"
   ]
  },
  {
   "cell_type": "markdown",
   "id": "dd4a016b",
   "metadata": {},
   "source": [
    "Le data frame **'transactions'** comprends 4 colonnes :\n",
    "- **id_prod** : référence du livre\n",
    "- **date** : date d'achat (format : AAAA-MM-JJ hh:mm:ss.microseconde)\n",
    "- **session_id** : identifiant de la session d'achat\n",
    "- **client_id** : identifiant client"
   ]
  },
  {
   "cell_type": "markdown",
   "id": "9c973d29",
   "metadata": {},
   "source": [
    "## <font color='blue'>Partie 2 - Nettoyage des données <a class=\"anchor\" id=\"partie2\"></a></font>\n",
    "\n",
    "La partie Nettoyage des données comprend les étapes suivantes :\n",
    "* [1. Types de variables](#2_1)\n",
    "* [2. Valeurs manquantes](#2_2)\n",
    "* [3. Doublons](#2_3)\n",
    "* [4. Valeurs aberrantes](#2_4)\n"
   ]
  },
  {
   "cell_type": "markdown",
   "id": "b5cc5436",
   "metadata": {},
   "source": [
    "### 1. Types de variables<a class=\"anchor\" id=\"2_1\"></a>\n",
    "\n",
    "L'objectif est de vérifier que les variables sont bien du bon type et de corriger les erreurs éventuelles."
   ]
  },
  {
   "cell_type": "markdown",
   "id": "0b8b5949",
   "metadata": {},
   "source": [
    "#### a. Data frame 'df_customers'<a class=\"anchor\" id=\"2_1_1\"></a>"
   ]
  },
  {
   "cell_type": "code",
   "execution_count": 8,
   "id": "859598d3",
   "metadata": {},
   "outputs": [
    {
     "data": {
      "text/plain": [
       "client_id    object\n",
       "sex          object\n",
       "birth         int64\n",
       "dtype: object"
      ]
     },
     "execution_count": 8,
     "metadata": {},
     "output_type": "execute_result"
    }
   ],
   "source": [
    "#Types de variables\n",
    "df_customers.dtypes"
   ]
  },
  {
   "cell_type": "markdown",
   "id": "95df034e",
   "metadata": {},
   "source": [
    "=> Pas d'erreur de type de variable."
   ]
  },
  {
   "cell_type": "markdown",
   "id": "4f68fc60",
   "metadata": {},
   "source": [
    "#### b. Data frame 'df_products'<a class=\"anchor\" id=\"2_1_2\"></a>"
   ]
  },
  {
   "cell_type": "code",
   "execution_count": 9,
   "id": "7d49af58",
   "metadata": {},
   "outputs": [
    {
     "data": {
      "text/plain": [
       "id_prod     object\n",
       "price      float64\n",
       "categ        int64\n",
       "dtype: object"
      ]
     },
     "execution_count": 9,
     "metadata": {},
     "output_type": "execute_result"
    }
   ],
   "source": [
    "#Types de variables\n",
    "df_products.dtypes"
   ]
  },
  {
   "cell_type": "markdown",
   "id": "5faaafca",
   "metadata": {},
   "source": [
    "=> Pas d'erreur de type de variable."
   ]
  },
  {
   "cell_type": "markdown",
   "id": "738dc8a0",
   "metadata": {},
   "source": [
    "#### c. Data frame 'df_transactions'<a class=\"anchor\" id=\"2_1_3\"></a>"
   ]
  },
  {
   "cell_type": "code",
   "execution_count": 10,
   "id": "364c5c61",
   "metadata": {},
   "outputs": [
    {
     "data": {
      "text/plain": [
       "id_prod       object\n",
       "date          object\n",
       "session_id    object\n",
       "client_id     object\n",
       "dtype: object"
      ]
     },
     "execution_count": 10,
     "metadata": {},
     "output_type": "execute_result"
    }
   ],
   "source": [
    "#Types de variables\n",
    "df_transactions.dtypes"
   ]
  },
  {
   "cell_type": "markdown",
   "id": "24affef8",
   "metadata": {},
   "source": [
    "La variable **date** n'est pas de type une date => à convertir.\n",
    "\n",
    "Erreur détectée lors de la conversion en date \"Unknown string format: test_2021-03-01 02:30:02.237419\" => recherche des lignes correspondantes."
   ]
  },
  {
   "cell_type": "code",
   "execution_count": 11,
   "id": "e20d07e6",
   "metadata": {},
   "outputs": [
    {
     "data": {
      "text/html": [
       "<div>\n",
       "<style scoped>\n",
       "    .dataframe tbody tr th:only-of-type {\n",
       "        vertical-align: middle;\n",
       "    }\n",
       "\n",
       "    .dataframe tbody tr th {\n",
       "        vertical-align: top;\n",
       "    }\n",
       "\n",
       "    .dataframe thead th {\n",
       "        text-align: right;\n",
       "    }\n",
       "</style>\n",
       "<table border=\"1\" class=\"dataframe\">\n",
       "  <thead>\n",
       "    <tr style=\"text-align: right;\">\n",
       "      <th></th>\n",
       "      <th>id_prod</th>\n",
       "      <th>date</th>\n",
       "      <th>session_id</th>\n",
       "      <th>client_id</th>\n",
       "    </tr>\n",
       "  </thead>\n",
       "  <tbody>\n",
       "    <tr>\n",
       "      <th>3019</th>\n",
       "      <td>T_0</td>\n",
       "      <td>test_2021-03-01 02:30:02.237419</td>\n",
       "      <td>s_0</td>\n",
       "      <td>ct_0</td>\n",
       "    </tr>\n",
       "    <tr>\n",
       "      <th>52424</th>\n",
       "      <td>T_0</td>\n",
       "      <td>test_2021-03-01 02:30:02.237419</td>\n",
       "      <td>s_0</td>\n",
       "      <td>ct_0</td>\n",
       "    </tr>\n",
       "    <tr>\n",
       "      <th>130188</th>\n",
       "      <td>T_0</td>\n",
       "      <td>test_2021-03-01 02:30:02.237419</td>\n",
       "      <td>s_0</td>\n",
       "      <td>ct_0</td>\n",
       "    </tr>\n",
       "    <tr>\n",
       "      <th>168341</th>\n",
       "      <td>T_0</td>\n",
       "      <td>test_2021-03-01 02:30:02.237419</td>\n",
       "      <td>s_0</td>\n",
       "      <td>ct_0</td>\n",
       "    </tr>\n",
       "    <tr>\n",
       "      <th>185962</th>\n",
       "      <td>T_0</td>\n",
       "      <td>test_2021-03-01 02:30:02.237419</td>\n",
       "      <td>s_0</td>\n",
       "      <td>ct_1</td>\n",
       "    </tr>\n",
       "    <tr>\n",
       "      <th>311604</th>\n",
       "      <td>T_0</td>\n",
       "      <td>test_2021-03-01 02:30:02.237419</td>\n",
       "      <td>s_0</td>\n",
       "      <td>ct_1</td>\n",
       "    </tr>\n",
       "  </tbody>\n",
       "</table>\n",
       "</div>"
      ],
      "text/plain": [
       "       id_prod                             date session_id client_id\n",
       "3019       T_0  test_2021-03-01 02:30:02.237419        s_0      ct_0\n",
       "52424      T_0  test_2021-03-01 02:30:02.237419        s_0      ct_0\n",
       "130188     T_0  test_2021-03-01 02:30:02.237419        s_0      ct_0\n",
       "168341     T_0  test_2021-03-01 02:30:02.237419        s_0      ct_0\n",
       "185962     T_0  test_2021-03-01 02:30:02.237419        s_0      ct_1\n",
       "311604     T_0  test_2021-03-01 02:30:02.237419        s_0      ct_1"
      ]
     },
     "execution_count": 11,
     "metadata": {},
     "output_type": "execute_result"
    }
   ],
   "source": [
    "# Visualisation des lignes date=\"test_2021-03-01 02:30:02.237419\"\n",
    "df_transactions.loc[df_transactions['date']=='test_2021-03-01 02:30:02.237419',:]"
   ]
  },
  {
   "cell_type": "markdown",
   "id": "152038fc",
   "metadata": {},
   "source": [
    "Il s'agit de lignes de tests enregistrés dans la base de données Transactions. L'id_prod pour le test est 'T_0'."
   ]
  },
  {
   "cell_type": "code",
   "execution_count": 12,
   "id": "910b482c",
   "metadata": {
    "scrolled": true
   },
   "outputs": [
    {
     "name": "stdout",
     "output_type": "stream",
     "text": [
      "Nombre de 'T_0' pour la variable 'id_prod':\n",
      "200\n"
     ]
    }
   ],
   "source": [
    "# Nombre d'occurences de 'T_0'\n",
    "print(\"Nombre de 'T_0' pour la variable 'id_prod':\")\n",
    "print(df_transactions.loc[df_transactions['id_prod']=='T_0',:].shape[0])"
   ]
  },
  {
   "cell_type": "code",
   "execution_count": 13,
   "id": "a95077bf",
   "metadata": {},
   "outputs": [],
   "source": [
    "#Conversion en format date et remplacement des erreurs par 'NaT'\n",
    "df_transactions['date']=pd.to_datetime(df_transactions['date'],errors='coerce')"
   ]
  },
  {
   "cell_type": "code",
   "execution_count": 14,
   "id": "0ef9f4de",
   "metadata": {},
   "outputs": [
    {
     "data": {
      "text/plain": [
       "id_prod               object\n",
       "date          datetime64[ns]\n",
       "session_id            object\n",
       "client_id             object\n",
       "dtype: object"
      ]
     },
     "execution_count": 14,
     "metadata": {},
     "output_type": "execute_result"
    }
   ],
   "source": [
    "# Type de variables\n",
    "df_transactions.dtypes"
   ]
  },
  {
   "cell_type": "code",
   "execution_count": 15,
   "id": "3b3024f6",
   "metadata": {},
   "outputs": [
    {
     "name": "stdout",
     "output_type": "stream",
     "text": [
      "Nombre de 'NaT' pour la variable 'Date':\n",
      "200\n"
     ]
    }
   ],
   "source": [
    "# Nombre de lignes avec date = NaT\n",
    "print(\"Nombre de 'NaT' pour la variable 'Date':\")\n",
    "print(df_transactions.loc[df_transactions['date'].isna(),:].shape[0])"
   ]
  },
  {
   "cell_type": "code",
   "execution_count": 16,
   "id": "16613763",
   "metadata": {},
   "outputs": [
    {
     "data": {
      "text/plain": [
       "(679332, 4)"
      ]
     },
     "execution_count": 16,
     "metadata": {},
     "output_type": "execute_result"
    }
   ],
   "source": [
    "# Suppression des lignes de tests\n",
    "df_transactions=df_transactions.loc[df_transactions['date'].notna(),:]\n",
    "\n",
    "# Dimensions du df\n",
    "df_transactions.shape"
   ]
  },
  {
   "cell_type": "markdown",
   "id": "094b69ab",
   "metadata": {},
   "source": [
    "### 2. Valeurs manquantes<a class=\"anchor\" id=\"2_2\"></a>\n",
    "\n",
    "L'objectif est d'identifier les éventuelles valeurs manquantes et de définir le traitement à effectuer."
   ]
  },
  {
   "cell_type": "markdown",
   "id": "fa88ea96",
   "metadata": {},
   "source": [
    "#### a. Data frame 'df_customers'<a class=\"anchor\" id=\"2_2_1\"></a>"
   ]
  },
  {
   "cell_type": "code",
   "execution_count": 17,
   "id": "ea3a3a4d",
   "metadata": {
    "scrolled": true
   },
   "outputs": [
    {
     "data": {
      "text/plain": [
       "client_id    0\n",
       "sex          0\n",
       "birth        0\n",
       "dtype: int64"
      ]
     },
     "execution_count": 17,
     "metadata": {},
     "output_type": "execute_result"
    }
   ],
   "source": [
    "# affichage du nombre de valeurs manquantes pour chaque colonne\n",
    "df_customers.isna().sum()"
   ]
  },
  {
   "cell_type": "markdown",
   "id": "82023fad",
   "metadata": {},
   "source": [
    "#### b. Data frame 'df_products'<a class=\"anchor\" id=\"2_2_2\"></a>"
   ]
  },
  {
   "cell_type": "code",
   "execution_count": 18,
   "id": "efb7d31f",
   "metadata": {},
   "outputs": [
    {
     "data": {
      "text/plain": [
       "id_prod    0\n",
       "price      0\n",
       "categ      0\n",
       "dtype: int64"
      ]
     },
     "execution_count": 18,
     "metadata": {},
     "output_type": "execute_result"
    }
   ],
   "source": [
    "# affichage du nombre de valeurs manquantes pour chaque colonne\n",
    "df_products.isna().sum()"
   ]
  },
  {
   "cell_type": "markdown",
   "id": "1fe4a8d9",
   "metadata": {},
   "source": [
    "#### c. Data frame 'df_transactions'<a class=\"anchor\" id=\"2_2_3\"></a>"
   ]
  },
  {
   "cell_type": "code",
   "execution_count": 19,
   "id": "e1c63632",
   "metadata": {
    "scrolled": true
   },
   "outputs": [
    {
     "data": {
      "text/plain": [
       "id_prod       0\n",
       "date          0\n",
       "session_id    0\n",
       "client_id     0\n",
       "dtype: int64"
      ]
     },
     "execution_count": 19,
     "metadata": {},
     "output_type": "execute_result"
    }
   ],
   "source": [
    "# affichage du nombre de valeurs manquantes pour chaque colonne\n",
    "df_transactions.isna().sum()"
   ]
  },
  {
   "cell_type": "markdown",
   "id": "2aba4d39",
   "metadata": {},
   "source": [
    "### 3. Doublons <a class=\"anchor\" id=\"2_3\"></a>\n",
    "\n",
    "L'objectif est d'identifier les éventuels doublons et de les traiter."
   ]
  },
  {
   "cell_type": "markdown",
   "id": "705c2698",
   "metadata": {},
   "source": [
    "#### a. Data frame 'df_customers'<a class=\"anchor\" id=\"2_3_1\"></a>"
   ]
  },
  {
   "cell_type": "code",
   "execution_count": 20,
   "id": "c9e60bcf",
   "metadata": {
    "scrolled": true
   },
   "outputs": [
    {
     "data": {
      "text/plain": [
       "0"
      ]
     },
     "execution_count": 20,
     "metadata": {},
     "output_type": "execute_result"
    }
   ],
   "source": [
    "# Nombre de doublons dans les lignes\n",
    "df_customers.duplicated().sum()"
   ]
  },
  {
   "cell_type": "markdown",
   "id": "8be00c9c",
   "metadata": {},
   "source": [
    "Le 'client_id' doit être unique car il s'agit ici de la base de données des clients."
   ]
  },
  {
   "cell_type": "code",
   "execution_count": 21,
   "id": "4c0d7696",
   "metadata": {},
   "outputs": [
    {
     "data": {
      "text/plain": [
       "0"
      ]
     },
     "execution_count": 21,
     "metadata": {},
     "output_type": "execute_result"
    }
   ],
   "source": [
    "# Nombre de doublons de client_id\n",
    "df_customers['client_id'].duplicated().sum()"
   ]
  },
  {
   "cell_type": "markdown",
   "id": "ea4e47db",
   "metadata": {},
   "source": [
    "#### b. Data frame 'df_products'<a class=\"anchor\" id=\"2_3_2\"></a>"
   ]
  },
  {
   "cell_type": "code",
   "execution_count": 22,
   "id": "cfea81d0",
   "metadata": {
    "scrolled": true
   },
   "outputs": [
    {
     "data": {
      "text/plain": [
       "0"
      ]
     },
     "execution_count": 22,
     "metadata": {},
     "output_type": "execute_result"
    }
   ],
   "source": [
    "# Nombre de doublons dans les lignes\n",
    "df_products.duplicated().sum()"
   ]
  },
  {
   "cell_type": "markdown",
   "id": "62ee1a57",
   "metadata": {},
   "source": [
    "Le 'id_prod' doit être unique car il s'agit ici de la base de données des livres."
   ]
  },
  {
   "cell_type": "code",
   "execution_count": 23,
   "id": "ad044afa",
   "metadata": {},
   "outputs": [
    {
     "data": {
      "text/plain": [
       "0"
      ]
     },
     "execution_count": 23,
     "metadata": {},
     "output_type": "execute_result"
    }
   ],
   "source": [
    "# Nombre de doublons de id_prod\n",
    "df_products['id_prod'].duplicated().sum()"
   ]
  },
  {
   "cell_type": "markdown",
   "id": "4b1eef79",
   "metadata": {},
   "source": [
    "#### c. Data frame 'df_transactions'<a class=\"anchor\" id=\"2_2_3\"></a>"
   ]
  },
  {
   "cell_type": "code",
   "execution_count": 24,
   "id": "73daaa87",
   "metadata": {
    "scrolled": true
   },
   "outputs": [
    {
     "data": {
      "text/plain": [
       "0"
      ]
     },
     "execution_count": 24,
     "metadata": {},
     "output_type": "execute_result"
    }
   ],
   "source": [
    "# Nombre de doublons dans les lignes\n",
    "df_transactions.duplicated().sum()"
   ]
  },
  {
   "cell_type": "markdown",
   "id": "85350535",
   "metadata": {},
   "source": [
    "Dans la base de données 'Transactions', l'identifiant 'session_id' associé à 'date' doit être unique."
   ]
  },
  {
   "cell_type": "code",
   "execution_count": 25,
   "id": "75c99d8c",
   "metadata": {},
   "outputs": [
    {
     "data": {
      "text/plain": [
       "0"
      ]
     },
     "execution_count": 25,
     "metadata": {},
     "output_type": "execute_result"
    }
   ],
   "source": [
    "# Nombre de doublons de date/session_id\n",
    "df_transactions[['date','session_id']].duplicated().sum()"
   ]
  },
  {
   "cell_type": "markdown",
   "id": "bc443e82",
   "metadata": {},
   "source": [
    "### 4. Valeurs aberrantes <a class=\"anchor\" id=\"2_4\"></a>\n",
    "\n",
    "L'objectif est d'identifier les éventuels valeurs aberrantes et de les traiter."
   ]
  },
  {
   "cell_type": "markdown",
   "id": "8cdc08cf",
   "metadata": {},
   "source": [
    "#### a. Data frame 'df_customers'<a class=\"anchor\" id=\"2_4_1\"></a>"
   ]
  },
  {
   "cell_type": "code",
   "execution_count": 26,
   "id": "07b50151",
   "metadata": {},
   "outputs": [],
   "source": [
    "# Ajout de la colonne âge, année actuelle = 2023 d'après le fichier de transactions\n",
    "df_customers['age']=2023-df_customers['birth']"
   ]
  },
  {
   "cell_type": "code",
   "execution_count": 27,
   "id": "660e2014",
   "metadata": {},
   "outputs": [
    {
     "data": {
      "text/html": [
       "<div>\n",
       "<style scoped>\n",
       "    .dataframe tbody tr th:only-of-type {\n",
       "        vertical-align: middle;\n",
       "    }\n",
       "\n",
       "    .dataframe tbody tr th {\n",
       "        vertical-align: top;\n",
       "    }\n",
       "\n",
       "    .dataframe thead th {\n",
       "        text-align: right;\n",
       "    }\n",
       "</style>\n",
       "<table border=\"1\" class=\"dataframe\">\n",
       "  <thead>\n",
       "    <tr style=\"text-align: right;\">\n",
       "      <th></th>\n",
       "      <th>client_id</th>\n",
       "      <th>sex</th>\n",
       "      <th>birth</th>\n",
       "      <th>age</th>\n",
       "    </tr>\n",
       "  </thead>\n",
       "  <tbody>\n",
       "    <tr>\n",
       "      <th>count</th>\n",
       "      <td>8623</td>\n",
       "      <td>8623</td>\n",
       "      <td>8623.000000</td>\n",
       "      <td>8623.000000</td>\n",
       "    </tr>\n",
       "    <tr>\n",
       "      <th>unique</th>\n",
       "      <td>8623</td>\n",
       "      <td>2</td>\n",
       "      <td>NaN</td>\n",
       "      <td>NaN</td>\n",
       "    </tr>\n",
       "    <tr>\n",
       "      <th>top</th>\n",
       "      <td>c_4410</td>\n",
       "      <td>f</td>\n",
       "      <td>NaN</td>\n",
       "      <td>NaN</td>\n",
       "    </tr>\n",
       "    <tr>\n",
       "      <th>freq</th>\n",
       "      <td>1</td>\n",
       "      <td>4491</td>\n",
       "      <td>NaN</td>\n",
       "      <td>NaN</td>\n",
       "    </tr>\n",
       "    <tr>\n",
       "      <th>mean</th>\n",
       "      <td>NaN</td>\n",
       "      <td>NaN</td>\n",
       "      <td>1978.280877</td>\n",
       "      <td>44.719123</td>\n",
       "    </tr>\n",
       "    <tr>\n",
       "      <th>std</th>\n",
       "      <td>NaN</td>\n",
       "      <td>NaN</td>\n",
       "      <td>16.919535</td>\n",
       "      <td>16.919535</td>\n",
       "    </tr>\n",
       "    <tr>\n",
       "      <th>min</th>\n",
       "      <td>NaN</td>\n",
       "      <td>NaN</td>\n",
       "      <td>1929.000000</td>\n",
       "      <td>19.000000</td>\n",
       "    </tr>\n",
       "    <tr>\n",
       "      <th>25%</th>\n",
       "      <td>NaN</td>\n",
       "      <td>NaN</td>\n",
       "      <td>1966.000000</td>\n",
       "      <td>31.000000</td>\n",
       "    </tr>\n",
       "    <tr>\n",
       "      <th>50%</th>\n",
       "      <td>NaN</td>\n",
       "      <td>NaN</td>\n",
       "      <td>1979.000000</td>\n",
       "      <td>44.000000</td>\n",
       "    </tr>\n",
       "    <tr>\n",
       "      <th>75%</th>\n",
       "      <td>NaN</td>\n",
       "      <td>NaN</td>\n",
       "      <td>1992.000000</td>\n",
       "      <td>57.000000</td>\n",
       "    </tr>\n",
       "    <tr>\n",
       "      <th>max</th>\n",
       "      <td>NaN</td>\n",
       "      <td>NaN</td>\n",
       "      <td>2004.000000</td>\n",
       "      <td>94.000000</td>\n",
       "    </tr>\n",
       "  </tbody>\n",
       "</table>\n",
       "</div>"
      ],
      "text/plain": [
       "       client_id   sex        birth          age\n",
       "count       8623  8623  8623.000000  8623.000000\n",
       "unique      8623     2          NaN          NaN\n",
       "top       c_4410     f          NaN          NaN\n",
       "freq           1  4491          NaN          NaN\n",
       "mean         NaN   NaN  1978.280877    44.719123\n",
       "std          NaN   NaN    16.919535    16.919535\n",
       "min          NaN   NaN  1929.000000    19.000000\n",
       "25%          NaN   NaN  1966.000000    31.000000\n",
       "50%          NaN   NaN  1979.000000    44.000000\n",
       "75%          NaN   NaN  1992.000000    57.000000\n",
       "max          NaN   NaN  2004.000000    94.000000"
      ]
     },
     "execution_count": 27,
     "metadata": {},
     "output_type": "execute_result"
    }
   ],
   "source": [
    "# Données statistiques \n",
    "df_customers.describe(include='all')"
   ]
  },
  {
   "cell_type": "markdown",
   "id": "ca118846",
   "metadata": {},
   "source": [
    "L'âge des clients s'étale de 19 ans à 94 ans."
   ]
  },
  {
   "cell_type": "code",
   "execution_count": 28,
   "id": "5e7e75d8",
   "metadata": {},
   "outputs": [
    {
     "data": {
      "image/png": "[encoded data removed]",
      "text/plain": [
       "<Figure size 720x504 with 1 Axes>"
      ]
     },
     "metadata": {
      "needs_background": "light"
     },
     "output_type": "display_data"
    }
   ],
   "source": [
    "#Répartition de l'âge des clients : histogramme\n",
    "plt.figure(figsize=(10,7))\n",
    "sns.histplot(data=df_customers,x='age',color='indianred')\n",
    "plt.title('Distribution des âges des clients : histogramme',fontsize=11)\n",
    "plt.show()"
   ]
  },
  {
   "cell_type": "markdown",
   "id": "a08fb0b5",
   "metadata": {},
   "source": [
    "Les clients ont majoritairement entre 19 et 70 ans. "
   ]
  },
  {
   "cell_type": "code",
   "execution_count": 29,
   "id": "0af486ef",
   "metadata": {
    "scrolled": true
   },
   "outputs": [
    {
     "data": {
      "text/html": [
       "<div>\n",
       "<style scoped>\n",
       "    .dataframe tbody tr th:only-of-type {\n",
       "        vertical-align: middle;\n",
       "    }\n",
       "\n",
       "    .dataframe tbody tr th {\n",
       "        vertical-align: top;\n",
       "    }\n",
       "\n",
       "    .dataframe thead th {\n",
       "        text-align: right;\n",
       "    }\n",
       "</style>\n",
       "<table border=\"1\" class=\"dataframe\">\n",
       "  <thead>\n",
       "    <tr style=\"text-align: right;\">\n",
       "      <th></th>\n",
       "      <th>client_id</th>\n",
       "      <th>sex</th>\n",
       "      <th>birth</th>\n",
       "      <th>age</th>\n",
       "    </tr>\n",
       "  </thead>\n",
       "  <tbody>\n",
       "  </tbody>\n",
       "</table>\n",
       "</div>"
      ],
      "text/plain": [
       "Empty DataFrame\n",
       "Columns: [client_id, sex, birth, age]\n",
       "Index: []"
      ]
     },
     "execution_count": 29,
     "metadata": {},
     "output_type": "execute_result"
    }
   ],
   "source": [
    "# Recherche des profils clients tests : ct_0 et ct_1\n",
    "df_customers.loc[(df_customers['client_id']=='ct_0')&(df_customers['client_id']=='ct_1')]"
   ]
  },
  {
   "cell_type": "markdown",
   "id": "48b1b10b",
   "metadata": {},
   "source": [
    "#### b. Data frame 'df_products'<a class=\"anchor\" id=\"2_4_2\"></a>"
   ]
  },
  {
   "cell_type": "code",
   "execution_count": 30,
   "id": "6a2f5488",
   "metadata": {},
   "outputs": [
    {
     "data": {
      "text/html": [
       "<div>\n",
       "<style scoped>\n",
       "    .dataframe tbody tr th:only-of-type {\n",
       "        vertical-align: middle;\n",
       "    }\n",
       "\n",
       "    .dataframe tbody tr th {\n",
       "        vertical-align: top;\n",
       "    }\n",
       "\n",
       "    .dataframe thead th {\n",
       "        text-align: right;\n",
       "    }\n",
       "</style>\n",
       "<table border=\"1\" class=\"dataframe\">\n",
       "  <thead>\n",
       "    <tr style=\"text-align: right;\">\n",
       "      <th></th>\n",
       "      <th>id_prod</th>\n",
       "      <th>price</th>\n",
       "      <th>categ</th>\n",
       "    </tr>\n",
       "  </thead>\n",
       "  <tbody>\n",
       "    <tr>\n",
       "      <th>count</th>\n",
       "      <td>3287</td>\n",
       "      <td>3287.000000</td>\n",
       "      <td>3287.000000</td>\n",
       "    </tr>\n",
       "    <tr>\n",
       "      <th>unique</th>\n",
       "      <td>3287</td>\n",
       "      <td>NaN</td>\n",
       "      <td>NaN</td>\n",
       "    </tr>\n",
       "    <tr>\n",
       "      <th>top</th>\n",
       "      <td>0_1421</td>\n",
       "      <td>NaN</td>\n",
       "      <td>NaN</td>\n",
       "    </tr>\n",
       "    <tr>\n",
       "      <th>freq</th>\n",
       "      <td>1</td>\n",
       "      <td>NaN</td>\n",
       "      <td>NaN</td>\n",
       "    </tr>\n",
       "    <tr>\n",
       "      <th>mean</th>\n",
       "      <td>NaN</td>\n",
       "      <td>21.856641</td>\n",
       "      <td>0.370246</td>\n",
       "    </tr>\n",
       "    <tr>\n",
       "      <th>std</th>\n",
       "      <td>NaN</td>\n",
       "      <td>29.847908</td>\n",
       "      <td>0.615387</td>\n",
       "    </tr>\n",
       "    <tr>\n",
       "      <th>min</th>\n",
       "      <td>NaN</td>\n",
       "      <td>-1.000000</td>\n",
       "      <td>0.000000</td>\n",
       "    </tr>\n",
       "    <tr>\n",
       "      <th>25%</th>\n",
       "      <td>NaN</td>\n",
       "      <td>6.990000</td>\n",
       "      <td>0.000000</td>\n",
       "    </tr>\n",
       "    <tr>\n",
       "      <th>50%</th>\n",
       "      <td>NaN</td>\n",
       "      <td>13.060000</td>\n",
       "      <td>0.000000</td>\n",
       "    </tr>\n",
       "    <tr>\n",
       "      <th>75%</th>\n",
       "      <td>NaN</td>\n",
       "      <td>22.990000</td>\n",
       "      <td>1.000000</td>\n",
       "    </tr>\n",
       "    <tr>\n",
       "      <th>max</th>\n",
       "      <td>NaN</td>\n",
       "      <td>300.000000</td>\n",
       "      <td>2.000000</td>\n",
       "    </tr>\n",
       "  </tbody>\n",
       "</table>\n",
       "</div>"
      ],
      "text/plain": [
       "       id_prod        price        categ\n",
       "count     3287  3287.000000  3287.000000\n",
       "unique    3287          NaN          NaN\n",
       "top     0_1421          NaN          NaN\n",
       "freq         1          NaN          NaN\n",
       "mean       NaN    21.856641     0.370246\n",
       "std        NaN    29.847908     0.615387\n",
       "min        NaN    -1.000000     0.000000\n",
       "25%        NaN     6.990000     0.000000\n",
       "50%        NaN    13.060000     0.000000\n",
       "75%        NaN    22.990000     1.000000\n",
       "max        NaN   300.000000     2.000000"
      ]
     },
     "execution_count": 30,
     "metadata": {},
     "output_type": "execute_result"
    }
   ],
   "source": [
    "# Données statistiques \n",
    "df_products.describe(include='all')"
   ]
  },
  {
   "cell_type": "markdown",
   "id": "999c70bb",
   "metadata": {},
   "source": [
    "Les prix des livres vont de -1 à 300 €. -1 est une valeur aberrante à supprimer."
   ]
  },
  {
   "cell_type": "code",
   "execution_count": 31,
   "id": "7a9a96c2",
   "metadata": {
    "scrolled": true
   },
   "outputs": [
    {
     "data": {
      "text/html": [
       "<div>\n",
       "<style scoped>\n",
       "    .dataframe tbody tr th:only-of-type {\n",
       "        vertical-align: middle;\n",
       "    }\n",
       "\n",
       "    .dataframe tbody tr th {\n",
       "        vertical-align: top;\n",
       "    }\n",
       "\n",
       "    .dataframe thead th {\n",
       "        text-align: right;\n",
       "    }\n",
       "</style>\n",
       "<table border=\"1\" class=\"dataframe\">\n",
       "  <thead>\n",
       "    <tr style=\"text-align: right;\">\n",
       "      <th></th>\n",
       "      <th>id_prod</th>\n",
       "      <th>price</th>\n",
       "      <th>categ</th>\n",
       "    </tr>\n",
       "  </thead>\n",
       "  <tbody>\n",
       "    <tr>\n",
       "      <th>731</th>\n",
       "      <td>T_0</td>\n",
       "      <td>-1.0</td>\n",
       "      <td>0</td>\n",
       "    </tr>\n",
       "  </tbody>\n",
       "</table>\n",
       "</div>"
      ],
      "text/plain": [
       "    id_prod  price  categ\n",
       "731     T_0   -1.0      0"
      ]
     },
     "execution_count": 31,
     "metadata": {},
     "output_type": "execute_result"
    }
   ],
   "source": [
    "df_products.loc[df_products['price']<=0,:]"
   ]
  },
  {
   "cell_type": "markdown",
   "id": "754d795f",
   "metadata": {},
   "source": [
    "Le prix négatif correspond au produit utilisé pour les tests dans le df transactions."
   ]
  },
  {
   "cell_type": "code",
   "execution_count": 32,
   "id": "bd4ab3c5",
   "metadata": {},
   "outputs": [],
   "source": [
    "# Seuls les prix > 0 sont retenus\n",
    "df_products=df_products.loc[df_products['price']>0,:]"
   ]
  },
  {
   "cell_type": "markdown",
   "id": "9ebce60b",
   "metadata": {},
   "source": [
    "#### Prix des livres par catégorie"
   ]
  },
  {
   "cell_type": "markdown",
   "id": "344b9f51",
   "metadata": {},
   "source": [
    "Le prix des livres est majoritairement entre 0 et 50€."
   ]
  },
  {
   "cell_type": "code",
   "execution_count": 33,
   "id": "be75798f",
   "metadata": {
    "scrolled": false
   },
   "outputs": [
    {
     "data": {
      "image/png": "[encoded data removed]",
      "text/plain": [
       "<Figure size 720x504 with 1 Axes>"
      ]
     },
     "metadata": {
      "needs_background": "light"
     },
     "output_type": "display_data"
    }
   ],
   "source": [
    "#Répartition des prix de ventes : histogramme\n",
    "plt.figure(figsize=(10,7))\n",
    "sns.histplot(data=df_products,x='price',color='brown')\n",
    "plt.title('Distribution des prix : histogramme',fontsize=11)\n",
    "plt.show()"
   ]
  },
  {
   "cell_type": "markdown",
   "id": "4e40273a",
   "metadata": {},
   "source": [
    "Il y a 3 catégories de livres proposées à la vente 0, 1 et 2 :\n",
    "- Catégorie 0 : prix de 0,62€ à 40,99€, prix moyen 11,73€\n",
    "- Catégorie 1 : prix de 2,00€ à 80,99€, prix moyen 25,53€\n",
    "- Catégorie 2 : prix de 30,99€ à 300,00€, prix moyen 108,35€"
   ]
  },
  {
   "cell_type": "code",
   "execution_count": 34,
   "id": "562a4fd4",
   "metadata": {},
   "outputs": [
    {
     "data": {
      "text/plain": [
       "array([0, 1, 2], dtype=int64)"
      ]
     },
     "execution_count": 34,
     "metadata": {},
     "output_type": "execute_result"
    }
   ],
   "source": [
    "# Modalités de 'categ'\n",
    "df_products['categ'].unique()"
   ]
  },
  {
   "cell_type": "code",
   "execution_count": 35,
   "id": "2930bd14",
   "metadata": {
    "scrolled": false
   },
   "outputs": [
    {
     "name": "stdout",
     "output_type": "stream",
     "text": [
      "--------------------\n",
      "Catégorie de livres 0\n",
      "min: 0.62\n",
      "max: 40.99\n",
      "moy: 11.73\n",
      "med: 10.32\n",
      "mod: 0    4.99\n",
      "Name: price, dtype: float64\n",
      "var: 57.22\n",
      "ect: 7.56\n",
      "--------------------\n",
      "Catégorie de livres 1\n",
      "min: 2.0\n",
      "max: 80.99\n",
      "moy: 25.53\n",
      "med: 22.99\n",
      "mod: 0    22.99\n",
      "1    32.99\n",
      "Name: price, dtype: float64\n",
      "var: 237.61\n",
      "ect: 15.41\n",
      "--------------------\n",
      "Catégorie de livres 2\n",
      "min: 30.99\n",
      "max: 300.0\n",
      "moy: 108.35\n",
      "med: 101.99\n",
      "mod: 0    50.99\n",
      "1    68.99\n",
      "2    69.99\n",
      "Name: price, dtype: float64\n",
      "var: 2446.06\n",
      "ect: 49.46\n"
     ]
    }
   ],
   "source": [
    "for cat in df_products['categ'].unique():\n",
    "    subset = df_products[df_products.categ == cat]\n",
    "    print(\"-\"*20)\n",
    "    print(\"Catégorie de livres\",cat)\n",
    "    print(\"min:\",subset['price'].min())\n",
    "    print(\"max:\",subset['price'].max())\n",
    "    print(\"moy:\",round(subset['price'].mean(),2))\n",
    "    print(\"med:\",round(subset['price'].median(),2))\n",
    "    print(\"mod:\",round(subset['price'].mode(),2))\n",
    "    print(\"var:\",round(subset['price'].var(ddof=0),2))\n",
    "    print(\"ect:\",round(subset['price'].std(ddof=0),2))"
   ]
  },
  {
   "cell_type": "code",
   "execution_count": 36,
   "id": "c064a109",
   "metadata": {},
   "outputs": [
    {
     "data": {
      "image/png": "[encoded data removed]",
      "text/plain": [
       "<Figure size 576x216 with 1 Axes>"
      ]
     },
     "metadata": {
      "needs_background": "light"
     },
     "output_type": "display_data"
    }
   ],
   "source": [
    "# Distribution et moyenne des prix par catégorie\n",
    "plt.figure(figsize=(8,3))\n",
    "sns.boxplot(data=df_products, y='categ', x='price', \n",
    "            orient='h', \n",
    "            showfliers=True, \n",
    "            showmeans=True, \n",
    "            palette=\"Reds\", \n",
    "            meanprops={\"marker\":\"s\",\"markerfacecolor\":\"white\"})\n",
    "plt.title('Distribution des prix par catégorie')\n",
    "plt.show()"
   ]
  },
  {
   "cell_type": "markdown",
   "id": "6e963277",
   "metadata": {},
   "source": [
    "#### c. Data frame 'df_transactions'<a class=\"anchor\" id=\"2_4_3\"></a>"
   ]
  },
  {
   "cell_type": "code",
   "execution_count": 37,
   "id": "b4f6f4ac",
   "metadata": {},
   "outputs": [
    {
     "data": {
      "text/html": [
       "<div>\n",
       "<style scoped>\n",
       "    .dataframe tbody tr th:only-of-type {\n",
       "        vertical-align: middle;\n",
       "    }\n",
       "\n",
       "    .dataframe tbody tr th {\n",
       "        vertical-align: top;\n",
       "    }\n",
       "\n",
       "    .dataframe thead th {\n",
       "        text-align: right;\n",
       "    }\n",
       "</style>\n",
       "<table border=\"1\" class=\"dataframe\">\n",
       "  <thead>\n",
       "    <tr style=\"text-align: right;\">\n",
       "      <th></th>\n",
       "      <th>id_prod</th>\n",
       "      <th>date</th>\n",
       "      <th>session_id</th>\n",
       "      <th>client_id</th>\n",
       "    </tr>\n",
       "  </thead>\n",
       "  <tbody>\n",
       "    <tr>\n",
       "      <th>count</th>\n",
       "      <td>679332</td>\n",
       "      <td>679332</td>\n",
       "      <td>679332</td>\n",
       "      <td>679332</td>\n",
       "    </tr>\n",
       "    <tr>\n",
       "      <th>unique</th>\n",
       "      <td>3266</td>\n",
       "      <td>NaN</td>\n",
       "      <td>342315</td>\n",
       "      <td>8600</td>\n",
       "    </tr>\n",
       "    <tr>\n",
       "      <th>top</th>\n",
       "      <td>1_369</td>\n",
       "      <td>NaN</td>\n",
       "      <td>s_118668</td>\n",
       "      <td>c_1609</td>\n",
       "    </tr>\n",
       "    <tr>\n",
       "      <th>freq</th>\n",
       "      <td>2252</td>\n",
       "      <td>NaN</td>\n",
       "      <td>14</td>\n",
       "      <td>25488</td>\n",
       "    </tr>\n",
       "    <tr>\n",
       "      <th>mean</th>\n",
       "      <td>NaN</td>\n",
       "      <td>2022-03-03 15:13:19.307389696</td>\n",
       "      <td>NaN</td>\n",
       "      <td>NaN</td>\n",
       "    </tr>\n",
       "    <tr>\n",
       "      <th>min</th>\n",
       "      <td>NaN</td>\n",
       "      <td>2021-03-01 00:01:07.843138</td>\n",
       "      <td>NaN</td>\n",
       "      <td>NaN</td>\n",
       "    </tr>\n",
       "    <tr>\n",
       "      <th>25%</th>\n",
       "      <td>NaN</td>\n",
       "      <td>2021-09-08 09:14:25.055994368</td>\n",
       "      <td>NaN</td>\n",
       "      <td>NaN</td>\n",
       "    </tr>\n",
       "    <tr>\n",
       "      <th>50%</th>\n",
       "      <td>NaN</td>\n",
       "      <td>2022-03-03 07:50:20.817730560</td>\n",
       "      <td>NaN</td>\n",
       "      <td>NaN</td>\n",
       "    </tr>\n",
       "    <tr>\n",
       "      <th>75%</th>\n",
       "      <td>NaN</td>\n",
       "      <td>2022-08-30 23:57:08.555173888</td>\n",
       "      <td>NaN</td>\n",
       "      <td>NaN</td>\n",
       "    </tr>\n",
       "    <tr>\n",
       "      <th>max</th>\n",
       "      <td>NaN</td>\n",
       "      <td>2023-02-28 23:58:30.792755</td>\n",
       "      <td>NaN</td>\n",
       "      <td>NaN</td>\n",
       "    </tr>\n",
       "  </tbody>\n",
       "</table>\n",
       "</div>"
      ],
      "text/plain": [
       "       id_prod                           date session_id client_id\n",
       "count   679332                         679332     679332    679332\n",
       "unique    3266                            NaN     342315      8600\n",
       "top      1_369                            NaN   s_118668    c_1609\n",
       "freq      2252                            NaN         14     25488\n",
       "mean       NaN  2022-03-03 15:13:19.307389696        NaN       NaN\n",
       "min        NaN     2021-03-01 00:01:07.843138        NaN       NaN\n",
       "25%        NaN  2021-09-08 09:14:25.055994368        NaN       NaN\n",
       "50%        NaN  2022-03-03 07:50:20.817730560        NaN       NaN\n",
       "75%        NaN  2022-08-30 23:57:08.555173888        NaN       NaN\n",
       "max        NaN     2023-02-28 23:58:30.792755        NaN       NaN"
      ]
     },
     "execution_count": 37,
     "metadata": {},
     "output_type": "execute_result"
    }
   ],
   "source": [
    "# Données statistiques \n",
    "df_transactions.describe(datetime_is_numeric=True,include='all')"
   ]
  },
  {
   "cell_type": "markdown",
   "id": "9e46ba06",
   "metadata": {},
   "source": [
    "Les dates sont cohérentes avec la plage de 2 ans de fonctionnement de la boutique en ligne : mars 2021 à fin février 2023."
   ]
  },
  {
   "cell_type": "code",
   "execution_count": 38,
   "id": "85d0641f",
   "metadata": {},
   "outputs": [
    {
     "data": {
      "image/png": "[encoded data removed]",
      "text/plain": [
       "<Figure size 720x504 with 1 Axes>"
      ]
     },
     "metadata": {
      "needs_background": "light"
     },
     "output_type": "display_data"
    }
   ],
   "source": [
    "#Répartition des prix de ventes : histogramme\n",
    "plt.figure(figsize=(10,7))\n",
    "sns.histplot(data=df_transactions,x='date',color='darksalmon')\n",
    "plt.title('Distribution des dates de transaction : histogramme',fontsize=11)\n",
    "plt.show()"
   ]
  },
  {
   "cell_type": "code",
   "execution_count": 39,
   "id": "33962ff7",
   "metadata": {},
   "outputs": [],
   "source": [
    "# Enregistrement des dataframes nettoyés en .csv\n",
    "df_transactions.to_csv('df_transactions.csv')\n",
    "df_products.to_csv('df_products.csv')\n",
    "df_customers.to_csv('df_customers.csv')"
   ]
  }
 ],
 "metadata": {
  "kernelspec": {
   "display_name": "Python 3 (ipykernel)",
   "language": "python",
   "name": "python3"
  },
  "language_info": {
   "codemirror_mode": {
    "name": "ipython",
    "version": 3
   },
   "file_extension": ".py",
   "mimetype": "text/x-python",
   "name": "python",
   "nbconvert_exporter": "python",
   "pygments_lexer": "ipython3",
   "version": "3.9.12"
  }
 },
 "nbformat": 4,
 "nbformat_minor": 5
}
